{
 "cells": [
  {
   "cell_type": "markdown",
   "metadata": {},
   "source": [
    "1.·iNaturalist es un sitio web donde los naturalistas, científicos y ciudadanos pueden registrar, compartir y discutir sus observaciones sobre la vida silvestre. iNaturalist alberga más de 2 millones de observaciones de más de 80,000 especies en todo el mundo y es administrado por la Academia de Ciencias de California. Con la API iNaturalist Rastree esta API los desarrolladores pueden integrar datos de avistamiento de vida silvestre en sus aplicaciones."
   ]
  },
  {
   "cell_type": "code",
   "execution_count": 30,
   "metadata": {},
   "outputs": [],
   "source": [
    "import numpy as np\n",
    "import pandas as pd\n",
    "\n",
    "import requests #para hacer peticiones a la web\n",
    "\n",
    "from pprint import pprint\n",
    "import string"
   ]
  },
  {
   "cell_type": "code",
   "execution_count": 32,
   "metadata": {},
   "outputs": [],
   "source": [
    "abecedario = list(string.ascii_lowercase)  # Lista de letras minúsculas"
   ]
  },
  {
   "cell_type": "code",
   "execution_count": 45,
   "metadata": {},
   "outputs": [],
   "source": [
    "names = []\n",
    "taxonomy = []\n",
    "locations = []\n",
    "characteristics = []\n",
    "clases = []\n",
    "kingdom = []\n",
    "phylum = []\n",
    "order = []\n",
    "family = []\n",
    "genus = []\n",
    "scientific_name = []"
   ]
  },
  {
   "cell_type": "code",
   "execution_count": 46,
   "metadata": {},
   "outputs": [],
   "source": [
    "listas = {\n",
    "    'age_of_fledgling': [],\n",
    "    'age_of_independence': [],\n",
    "    'age_of_molting': [],\n",
    "    'age_of_sexual_maturity': [],\n",
    "    'age_of_weaning': [],\n",
    "    'aggression': [],\n",
    "    'average_clutch_size': [],\n",
    "    'average_litter_size': [],\n",
    "    'average_spawn_size': [],\n",
    "    'biggest_threat': [],\n",
    "    'color': [],\n",
    "    'common_name': [],\n",
    "    'diet': [],\n",
    "    'distinctive_feature': [],\n",
    "    'estimated_population_size': [],\n",
    "    'favorite_food': [],\n",
    "    'gestation_period': [],\n",
    "    'group': [],\n",
    "    'group_behavior': [],\n",
    "    'habitat': [],\n",
    "    'height': [],\n",
    "    'incubation_period': [],\n",
    "    'length': [],\n",
    "    'lifespan': [],\n",
    "    'lifestyle': [],\n",
    "    'litter_size': [],\n",
    "    'location': [],\n",
    "    'main_prey': [],\n",
    "    'migratory': [],\n",
    "    'most_distinctive_feature': [],\n",
    "    'name_of_young': [],\n",
    "    'nesting_location': [],\n",
    "    'number_of_species': [],\n",
    "    'optimum_ph_level': [],\n",
    "    'origin': [],\n",
    "    'other_names': [],\n",
    "    'predators': [],\n",
    "    'prey': [],\n",
    "    'skin_type': [],\n",
    "    'slogan': [],\n",
    "    'special_features': [],\n",
    "    'temperament': [],\n",
    "    'top_speed': [],\n",
    "    'training': [],\n",
    "    'type': [],\n",
    "    'venomous': [],\n",
    "    'water_type': [],\n",
    "    'weight': [],\n",
    "    'wingspan': []\n",
    "}\n"
   ]
  },
  {
   "cell_type": "code",
   "execution_count": 47,
   "metadata": {},
   "outputs": [
    {
     "name": "stdout",
     "output_type": "stream",
     "text": [
      "Endpoint: https://api.api-ninjas.com/v1/animals?name=a\n",
      "Endpoint: https://api.api-ninjas.com/v1/animals?name=b\n",
      "Endpoint: https://api.api-ninjas.com/v1/animals?name=c\n",
      "Endpoint: https://api.api-ninjas.com/v1/animals?name=d\n",
      "Endpoint: https://api.api-ninjas.com/v1/animals?name=e\n",
      "Endpoint: https://api.api-ninjas.com/v1/animals?name=f\n",
      "Endpoint: https://api.api-ninjas.com/v1/animals?name=g\n",
      "Endpoint: https://api.api-ninjas.com/v1/animals?name=h\n",
      "Endpoint: https://api.api-ninjas.com/v1/animals?name=i\n",
      "Endpoint: https://api.api-ninjas.com/v1/animals?name=j\n",
      "Endpoint: https://api.api-ninjas.com/v1/animals?name=k\n",
      "Endpoint: https://api.api-ninjas.com/v1/animals?name=l\n",
      "Endpoint: https://api.api-ninjas.com/v1/animals?name=m\n",
      "Endpoint: https://api.api-ninjas.com/v1/animals?name=n\n",
      "Endpoint: https://api.api-ninjas.com/v1/animals?name=o\n",
      "Endpoint: https://api.api-ninjas.com/v1/animals?name=p\n",
      "Endpoint: https://api.api-ninjas.com/v1/animals?name=q\n",
      "Endpoint: https://api.api-ninjas.com/v1/animals?name=r\n",
      "Endpoint: https://api.api-ninjas.com/v1/animals?name=s\n",
      "Endpoint: https://api.api-ninjas.com/v1/animals?name=t\n",
      "Endpoint: https://api.api-ninjas.com/v1/animals?name=u\n",
      "Endpoint: https://api.api-ninjas.com/v1/animals?name=v\n",
      "Endpoint: https://api.api-ninjas.com/v1/animals?name=w\n",
      "Endpoint: https://api.api-ninjas.com/v1/animals?name=x\n",
      "Endpoint: https://api.api-ninjas.com/v1/animals?name=y\n",
      "Endpoint: https://api.api-ninjas.com/v1/animals?name=z\n"
     ]
    }
   ],
   "source": [
    "url = 'https://api.api-ninjas.com/v1/animals?name='\n",
    "for letra in abecedario:\n",
    "    name = letra\n",
    "    endpoint = f'{url}{name}'\n",
    "    print(f'Endpoint: {endpoint}')\n",
    "\n",
    "    response = requests.get(url = endpoint, headers = {'X-Api-Key': 'CECOLLTvBWPsKBF60lAnuw==XxirX35POuidafeo'})\n",
    "    data = response.json()\n",
    "\n",
    "    for r in range(len(data)):\n",
    "        \n",
    "        names.append(data[r][\"name\"])\n",
    "        taxonomy.append(data[r][\"taxonomy\"])\n",
    "        locations.append(data[r][\"locations\"])\n",
    "        characteristics.append(data[r][\"characteristics\"])\n",
    "\n",
    "        item = data[r][\"taxonomy\"]\n",
    "    \n",
    "   \n",
    "        clases.append(item.get(\"class\", None))\n",
    "        kingdom.append(item.get(\"kingdom\", None))\n",
    "        phylum.append(item.get(\"phylum\", None))\n",
    "        order.append(item.get(\"order\", None))\n",
    "        family.append(item.get(\"family\", None))\n",
    "        genus.append(item.get(\"genus\", None))\n",
    "        scientific_name.append(item.get(\"scientific_name\", None))\n",
    "        \n",
    "    \n",
    "        item = data[r][\"characteristics\"]\n",
    "        for nombre_lista, lista in listas.items():\n",
    "            try:\n",
    "                lista.append(item.get(nombre_lista, None))\n",
    "            except:\n",
    "                lista.append(np.nan)"
   ]
  },
  {
   "cell_type": "code",
   "execution_count": 48,
   "metadata": {},
   "outputs": [
    {
     "data": {
      "text/plain": [
       "(12835, 12835, 12835, 12835, 12835, 12835, 12835, 12835, 12835)"
      ]
     },
     "execution_count": 48,
     "metadata": {},
     "output_type": "execute_result"
    }
   ],
   "source": [
    "len(names), len(clases), len(kingdom), len(phylum), len(order), len(family), len(genus), len(scientific_name), len(locations)"
   ]
  },
  {
   "cell_type": "code",
   "execution_count": 55,
   "metadata": {},
   "outputs": [],
   "source": [
    "            \n",
    "diccionario = {\"name\": names,\n",
    "               \"clases\": clases,\n",
    "               \"kingdom\":  kingdom, \n",
    "               \"phylum\": phylum, \n",
    "               \"order\": order, \n",
    "               \"family\": family,\n",
    "               \"genus\": genus,\n",
    "               \"scientific_name\":scientific_name,\n",
    "               \"location\": locations}"
   ]
  },
  {
   "cell_type": "code",
   "execution_count": 56,
   "metadata": {},
   "outputs": [],
   "source": [
    "df_diccionario = pd.DataFrame(diccionario)"
   ]
  },
  {
   "cell_type": "code",
   "execution_count": 57,
   "metadata": {},
   "outputs": [
    {
     "data": {
      "text/plain": [
       "(12835, 9)"
      ]
     },
     "execution_count": 57,
     "metadata": {},
     "output_type": "execute_result"
    }
   ],
   "source": [
    "df_diccionario.shape"
   ]
  },
  {
   "cell_type": "code",
   "execution_count": 58,
   "metadata": {},
   "outputs": [],
   "source": [
    "df_listas = pd.DataFrame(listas)"
   ]
  },
  {
   "cell_type": "code",
   "execution_count": 59,
   "metadata": {},
   "outputs": [
    {
     "data": {
      "text/plain": [
       "(12835, 49)"
      ]
     },
     "execution_count": 59,
     "metadata": {},
     "output_type": "execute_result"
    }
   ],
   "source": [
    "df_listas.shape"
   ]
  },
  {
   "cell_type": "code",
   "execution_count": 60,
   "metadata": {},
   "outputs": [],
   "source": [
    "df_animal = pd.DataFrame()\n",
    "df_animal = pd.concat([df_diccionario, df_listas], axis = 1)"
   ]
  },
  {
   "cell_type": "code",
   "execution_count": 61,
   "metadata": {},
   "outputs": [
    {
     "data": {
      "text/plain": [
       "(12835, 58)"
      ]
     },
     "execution_count": 61,
     "metadata": {},
     "output_type": "execute_result"
    }
   ],
   "source": [
    "df_animal.shape"
   ]
  }
 ],
 "metadata": {
  "kernelspec": {
   "display_name": "Python 3",
   "language": "python",
   "name": "python3"
  },
  "language_info": {
   "codemirror_mode": {
    "name": "ipython",
    "version": 3
   },
   "file_extension": ".py",
   "mimetype": "text/x-python",
   "name": "python",
   "nbconvert_exporter": "python",
   "pygments_lexer": "ipython3",
   "version": "3.11.0"
  }
 },
 "nbformat": 4,
 "nbformat_minor": 2
}
